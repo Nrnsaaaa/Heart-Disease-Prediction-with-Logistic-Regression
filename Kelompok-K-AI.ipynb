{
  "nbformat": 4,
  "nbformat_minor": 0,
  "metadata": {
    "colab": {
      "provenance": [],
      "authorship_tag": "ABX9TyPC6rDTzH1Hg4G1IhZMVx8V",
      "include_colab_link": true
    },
    "kernelspec": {
      "name": "python3",
      "display_name": "Python 3"
    },
    "language_info": {
      "name": "python"
    }
  },
  "cells": [
    {
      "cell_type": "markdown",
      "metadata": {
        "id": "view-in-github",
        "colab_type": "text"
      },
      "source": [
        "<a href=\"https://colab.research.google.com/github/Nrnsaaaa/Heart-Disease-Prediction-with-Logistic-Regression/blob/main/Kelompok-K-AI.ipynb\" target=\"_parent\"><img src=\"https://colab.research.google.com/assets/colab-badge.svg\" alt=\"Open In Colab\"/></a>"
      ]
    },
    {
      "cell_type": "code",
      "execution_count": null,
      "metadata": {
        "colab": {
          "base_uri": "https://localhost:8080/"
        },
        "id": "EmH73MEMw9s2",
        "outputId": "57c51348-716e-429b-8fa8-e75406cda345"
      },
      "outputs": [
        {
          "output_type": "stream",
          "name": "stdout",
          "text": [
            "    age  sex   cp  trestbps   chol  fbs  restecg  thalach  exang  oldpeak  \\\n",
            "0  63.0  1.0  1.0     145.0  233.0  1.0      2.0    150.0    0.0      2.3   \n",
            "1  67.0  1.0  4.0     160.0  286.0  0.0      2.0    108.0    1.0      1.5   \n",
            "2  67.0  1.0  4.0     120.0  229.0  0.0      2.0    129.0    1.0      2.6   \n",
            "3  37.0  1.0  3.0     130.0  250.0  0.0      0.0    187.0    0.0      3.5   \n",
            "4  41.0  0.0  2.0     130.0  204.0  0.0      2.0    172.0    0.0      1.4   \n",
            "\n",
            "   slope   ca thal  target  \n",
            "0    3.0  0.0  6.0       0  \n",
            "1    2.0  3.0  3.0       2  \n",
            "2    2.0  2.0  7.0       1  \n",
            "3    3.0  0.0  3.0       0  \n",
            "4    1.0  0.0  3.0       0  \n",
            "<class 'pandas.core.frame.DataFrame'>\n",
            "RangeIndex: 303 entries, 0 to 302\n",
            "Data columns (total 14 columns):\n",
            " #   Column    Non-Null Count  Dtype  \n",
            "---  ------    --------------  -----  \n",
            " 0   age       303 non-null    float64\n",
            " 1   sex       303 non-null    float64\n",
            " 2   cp        303 non-null    float64\n",
            " 3   trestbps  303 non-null    float64\n",
            " 4   chol      303 non-null    float64\n",
            " 5   fbs       303 non-null    float64\n",
            " 6   restecg   303 non-null    float64\n",
            " 7   thalach   303 non-null    float64\n",
            " 8   exang     303 non-null    float64\n",
            " 9   oldpeak   303 non-null    float64\n",
            " 10  slope     303 non-null    float64\n",
            " 11  ca        303 non-null    object \n",
            " 12  thal      303 non-null    object \n",
            " 13  target    303 non-null    int64  \n",
            "dtypes: float64(11), int64(1), object(2)\n",
            "memory usage: 33.3+ KB\n",
            "None\n",
            "              age         sex          cp    trestbps        chol         fbs  \\\n",
            "count  303.000000  303.000000  303.000000  303.000000  303.000000  303.000000   \n",
            "mean    54.438944    0.679868    3.158416  131.689769  246.693069    0.148515   \n",
            "std      9.038662    0.467299    0.960126   17.599748   51.776918    0.356198   \n",
            "min     29.000000    0.000000    1.000000   94.000000  126.000000    0.000000   \n",
            "25%     48.000000    0.000000    3.000000  120.000000  211.000000    0.000000   \n",
            "50%     56.000000    1.000000    3.000000  130.000000  241.000000    0.000000   \n",
            "75%     61.000000    1.000000    4.000000  140.000000  275.000000    0.000000   \n",
            "max     77.000000    1.000000    4.000000  200.000000  564.000000    1.000000   \n",
            "\n",
            "          restecg     thalach       exang     oldpeak       slope      target  \n",
            "count  303.000000  303.000000  303.000000  303.000000  303.000000  303.000000  \n",
            "mean     0.990099  149.607261    0.326733    1.039604    1.600660    0.937294  \n",
            "std      0.994971   22.875003    0.469794    1.161075    0.616226    1.228536  \n",
            "min      0.000000   71.000000    0.000000    0.000000    1.000000    0.000000  \n",
            "25%      0.000000  133.500000    0.000000    0.000000    1.000000    0.000000  \n",
            "50%      1.000000  153.000000    0.000000    0.800000    2.000000    0.000000  \n",
            "75%      2.000000  166.000000    1.000000    1.600000    2.000000    2.000000  \n",
            "max      2.000000  202.000000    1.000000    6.200000    3.000000    4.000000  \n"
          ]
        }
      ],
      "source": [
        "import pandas as pd\n",
        "\n",
        "# Load dataset\n",
        "df = pd.read_csv('/processed.cleveland.data', header=None)  # dataset\n",
        "\n",
        "df.columns = [\n",
        "    'age', 'sex', 'cp', 'trestbps', 'chol', 'fbs',\n",
        "    'restecg', 'thalach', 'exang', 'oldpeak', 'slope',\n",
        "    'ca', 'thal', 'target'\n",
        "]\n",
        "\n",
        "# Tampilkan 5 baris pertama\n",
        "print(df.head())\n",
        "\n",
        "# Informasi dataset\n",
        "print(df.info())\n",
        "\n",
        "# Statistik deskriptif\n",
        "print(df.describe())\n"
      ]
    },
    {
      "cell_type": "code",
      "source": [
        "# Cek distribusi target awal\n",
        "print(df['target'].value_counts())\n",
        "\n",
        "# Konversi target jadi biner\n",
        "df['hd'] = df['target'].apply(lambda x: 1 if x > 0 else 0)\n",
        "\n",
        "# Cek distribusi target baru\n",
        "print(df['hd'].value_counts())\n",
        "\n",
        "# Ubah kolom 'sex' jadi kategori dengan label Female/Male\n",
        "df['sex'] = df['sex'].map({0: 'Female', 1: 'Male'})\n",
        "\n",
        "print(df[['sex', 'target', 'hd']].head())\n"
      ],
      "metadata": {
        "colab": {
          "base_uri": "https://localhost:8080/"
        },
        "id": "0Ft8aM1AyqJ0",
        "outputId": "6b1857f0-0a85-4e79-f575-630a990d9150"
      },
      "execution_count": null,
      "outputs": [
        {
          "output_type": "stream",
          "name": "stdout",
          "text": [
            "target\n",
            "0    164\n",
            "1     55\n",
            "2     36\n",
            "3     35\n",
            "4     13\n",
            "Name: count, dtype: int64\n",
            "hd\n",
            "0    164\n",
            "1    139\n",
            "Name: count, dtype: int64\n",
            "      sex  target  hd\n",
            "0    Male       0   0\n",
            "1    Male       2   1\n",
            "2    Male       1   1\n",
            "3    Male       0   0\n",
            "4  Female       0   0\n"
          ]
        }
      ]
    },
    {
      "cell_type": "code",
      "source": [
        "from scipy.stats import chi2_contingency, ttest_ind\n",
        "\n",
        "# Chi-squared test untuk sex\n",
        "contingency_table = pd.crosstab(df['sex'], df['hd'])\n",
        "chi2, p_sex, _, _ = chi2_contingency(contingency_table)\n",
        "\n",
        "# t-test untuk age\n",
        "age_disease = df[df['hd'] == 1]['age']\n",
        "age_no_disease = df[df['hd'] == 0]['age']\n",
        "t_stat_age, p_age = ttest_ind(age_disease, age_no_disease)\n",
        "\n",
        "# t-test untuk thalach\n",
        "thalach_disease = df[df['hd'] == 1]['thalach']\n",
        "thalach_no_disease = df[df['hd'] == 0]['thalach']\n",
        "t_stat_thal, p_thal = ttest_ind(thalach_disease, thalach_no_disease)\n",
        "\n",
        "print(f\"p-value Sex: {p_sex}\")\n",
        "print(f\"p-value Age: {p_age}\")\n",
        "print(f\"p-value Max Heart Rate (thalach): {p_thal}\")\n",
        "\n",
        "print(f\"Significant Sex? {'Yes' if p_sex < 0.05 else 'No'}\")\n",
        "print(f\"Significant Age? {'Yes' if p_age < 0.05 else 'No'}\")\n",
        "print(f\"Significant Max Heart Rate? {'Yes' if p_thal < 0.05 else 'No'}\")\n"
      ],
      "metadata": {
        "colab": {
          "base_uri": "https://localhost:8080/"
        },
        "id": "2vEh34lDytr0",
        "outputId": "3b0e14b9-f2da-4e4d-9ced-0a76ee3b8796"
      },
      "execution_count": null,
      "outputs": [
        {
          "output_type": "stream",
          "name": "stdout",
          "text": [
            "p-value Sex: 2.666712348180942e-06\n",
            "p-value Age: 8.955636917529706e-05\n",
            "p-value Max Heart Rate (thalach): 3.456964908430172e-14\n",
            "Significant Sex? Yes\n",
            "Significant Age? Yes\n",
            "Significant Max Heart Rate? Yes\n"
          ]
        }
      ]
    },
    {
      "cell_type": "code",
      "source": [
        "import seaborn as sns\n",
        "import matplotlib.pyplot as plt\n",
        "\n",
        "df['hd_label'] = df['hd'].map({0: 'No Disease', 1: 'Disease'})\n",
        "\n",
        "sns.boxplot(x='hd_label', y='age', data=df)\n",
        "plt.title('Age vs Heart Disease')\n",
        "plt.show()\n"
      ],
      "metadata": {
        "colab": {
          "base_uri": "https://localhost:8080/",
          "height": 472
        },
        "id": "oJfdedWQyx6o",
        "outputId": "738e2605-3fbf-46b2-b922-d60ed9379cfc"
      },
      "execution_count": null,
      "outputs": [
        {
          "output_type": "display_data",
          "data": {
            "text/plain": [
              "<Figure size 640x480 with 1 Axes>"
            ],
            "image/png": "[encoded data removed]"
          },
          "metadata": {}
        }
      ]
    },
    {
      "cell_type": "code",
      "source": [
        "sns.histplot(data=df, x='sex', hue='hd_label', stat='percent', multiple='fill')\n",
        "plt.ylabel('Percentage')\n",
        "plt.title('Sex vs Heart Disease')\n",
        "plt.show()\n"
      ],
      "metadata": {
        "colab": {
          "base_uri": "https://localhost:8080/",
          "height": 472
        },
        "id": "yy7KFoZKy2Nz",
        "outputId": "69e9993c-1dd2-49d9-8797-c541812da289"
      },
      "execution_count": null,
      "outputs": [
        {
          "output_type": "display_data",
          "data": {
            "text/plain": [
              "<Figure size 640x480 with 1 Axes>"
            ],
            "image/png": "[encoded data removed]"
          },
          "metadata": {}
        }
      ]
    },
    {
      "cell_type": "code",
      "source": [
        "sns.boxplot(x='hd_label', y='thalach', data=df)\n",
        "plt.title('Max Heart Rate vs Heart Disease')\n",
        "plt.show()\n"
      ],
      "metadata": {
        "colab": {
          "base_uri": "https://localhost:8080/",
          "height": 472
        },
        "id": "II-nvXx9y53t",
        "outputId": "2d298764-164f-47e2-b2c4-37e891242d02"
      },
      "execution_count": null,
      "outputs": [
        {
          "output_type": "display_data",
          "data": {
            "text/plain": [
              "<Figure size 640x480 with 1 Axes>"
            ],
            "image/png": "[encoded data removed]"
          },
          "metadata": {}
        }
      ]
    },
    {
      "cell_type": "code",
      "source": [
        "import statsmodels.api as sm\n",
        "import numpy as np\n",
        "\n",
        "# Encode sex sebagai binary numeric\n",
        "df['sex_num'] = df['sex'].map({'Female': 0, 'Male': 1})\n",
        "\n",
        "X = df[['age', 'sex_num', 'thalach']]\n",
        "y = df['hd']\n",
        "\n",
        "X = sm.add_constant(X)  # Tambahkan intercept\n",
        "\n",
        "model = sm.Logit(y, X).fit()\n",
        "\n",
        "print(model.summary())\n"
      ],
      "metadata": {
        "colab": {
          "base_uri": "https://localhost:8080/"
        },
        "id": "1S0aljZlzA5p",
        "outputId": "781e093f-4ce2-4402-8d73-0480256328d5"
      },
      "execution_count": null,
      "outputs": [
        {
          "output_type": "stream",
          "name": "stdout",
          "text": [
            "Optimization terminated successfully.\n",
            "         Current function value: 0.549254\n",
            "         Iterations 6\n",
            "                           Logit Regression Results                           \n",
            "==============================================================================\n",
            "Dep. Variable:                     hd   No. Observations:                  303\n",
            "Model:                          Logit   Df Residuals:                      299\n",
            "Method:                           MLE   Df Model:                            3\n",
            "Date:                Fri, 16 May 2025   Pseudo R-squ.:                  0.2037\n",
            "Time:                        01:54:03   Log-Likelihood:                -166.42\n",
            "converged:                       True   LL-Null:                       -208.99\n",
            "Covariance Type:            nonrobust   LLR p-value:                 2.429e-18\n",
            "==============================================================================\n",
            "                 coef    std err          z      P>|z|      [0.025      0.975]\n",
            "------------------------------------------------------------------------------\n",
            "const          3.1116      1.607      1.936      0.053      -0.039       6.262\n",
            "age            0.0319      0.016      1.940      0.052      -0.000       0.064\n",
            "sex_num        1.4919      0.307      4.857      0.000       0.890       2.094\n",
            "thalach       -0.0405      0.007     -5.732      0.000      -0.054      -0.027\n",
            "==============================================================================\n"
          ]
        }
      ]
    },
    {
      "cell_type": "code",
      "source": [
        "params = model.params\n",
        "conf = model.conf_int()\n",
        "conf['OR'] = params\n",
        "conf.columns = ['2.5%', '97.5%', 'OR']\n",
        "conf_exp = np.exp(conf)\n",
        "print(conf_exp)\n"
      ],
      "metadata": {
        "colab": {
          "base_uri": "https://localhost:8080/"
        },
        "id": "tmCxQ-hmzVKz",
        "outputId": "6c986644-be7a-4fa6-a872-5bb1c1d79d9f"
      },
      "execution_count": null,
      "outputs": [
        {
          "output_type": "stream",
          "name": "stdout",
          "text": [
            "             2.5%       97.5%         OR\n",
            "const    0.961782  524.365085  22.457182\n",
            "age      0.999664    1.066207   1.032400\n",
            "sex_num  2.434680    8.117231   4.445544\n",
            "thalach  0.947049    0.973674   0.960269\n"
          ]
        }
      ]
    },
    {
      "cell_type": "code",
      "source": [
        "df['pred_prob'] = model.predict(X)\n",
        "\n",
        "df['pred_hd'] = (df['pred_prob'] >= 0.5).astype(int)\n",
        "\n",
        "print(df[['age', 'sex', 'thalach', 'pred_prob', 'pred_hd']].head())\n",
        "\n",
        "# Prediksi untuk data baru\n",
        "new_data = pd.DataFrame({'const':1, 'age':[45], 'sex_num':[0], 'thalach':[150]})\n",
        "pred_new = model.predict(new_data)\n",
        "print(f\"Predicted probability for 45 y.o Female with max heart rate 150: {pred_new.values[0]}\")\n"
      ],
      "metadata": {
        "colab": {
          "base_uri": "https://localhost:8080/"
        },
        "id": "1ZenywYKzYpX",
        "outputId": "0137ce90-81e5-4678-8bfc-35d3c2ffe636"
      },
      "execution_count": null,
      "outputs": [
        {
          "output_type": "stream",
          "name": "stdout",
          "text": [
            "    age     sex  thalach  pred_prob  pred_hd\n",
            "0  63.0    Male    150.0   0.629739        1\n",
            "1  67.0    Male    108.0   0.913835        1\n",
            "2  67.0    Male    129.0   0.819063        1\n",
            "3  37.0    Male    187.0   0.142099        0\n",
            "4  41.0  Female    172.0   0.072145        0\n",
            "Predicted probability for 45 y.o Female with max heart rate 150: 0.1773002492232735\n"
          ]
        }
      ]
    },
    {
      "cell_type": "code",
      "source": [
        "from sklearn.metrics import roc_auc_score, accuracy_score, confusion_matrix\n",
        "\n",
        "auc = roc_auc_score(df['hd'], df['pred_hd'])\n",
        "accuracy = accuracy_score(df['hd'], df['pred_hd'])\n",
        "cm = confusion_matrix(df['hd'], df['pred_hd'])\n",
        "\n",
        "print(f\"AUC = {auc}\")\n",
        "print(f\"Accuracy = {accuracy}\")\n",
        "print(\"Confusion Matrix:\")\n",
        "print(cm)\n"
      ],
      "metadata": {
        "colab": {
          "base_uri": "https://localhost:8080/"
        },
        "id": "JUvCflCrzbUc",
        "outputId": "ecd37c58-1ea4-47eb-9391-3b0f8f36b250"
      },
      "execution_count": null,
      "outputs": [
        {
          "output_type": "stream",
          "name": "stdout",
          "text": [
            "AUC = 0.7064835936129145\n",
            "Accuracy = 0.7095709570957096\n",
            "Confusion Matrix:\n",
            "[[122  42]\n",
            " [ 46  93]]\n"
          ]
        }
      ]
    }
  ]
}